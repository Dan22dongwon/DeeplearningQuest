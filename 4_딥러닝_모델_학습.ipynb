{
  "nbformat": 4,
  "nbformat_minor": 0,
  "metadata": {
    "colab": {
      "provenance": [],
      "authorship_tag": "ABX9TyMj9Yn+hTirYaFMC5dCUlLY",
      "include_colab_link": true
    },
    "kernelspec": {
      "name": "python3",
      "display_name": "Python 3"
    },
    "language_info": {
      "name": "python"
    }
  },
  "cells": [
    {
      "cell_type": "markdown",
      "metadata": {
        "id": "view-in-github",
        "colab_type": "text"
      },
      "source": [
        "<a href=\"https://colab.research.google.com/github/Dan22dongwon/DeeplearningQuest/blob/main/4_%EB%94%A5%EB%9F%AC%EB%8B%9D_%EB%AA%A8%EB%8D%B8_%ED%95%99%EC%8A%B5.ipynb\" target=\"_parent\"><img src=\"https://colab.research.google.com/assets/colab-badge.svg\" alt=\"Open In Colab\"/></a>"
      ]
    },
    {
      "cell_type": "markdown",
      "source": [
        "## 들어가며\n",
        "\n",
        "안녕하세요!\n",
        "\n",
        "딥러닝의 학습 방법을 탐구하려 오신 여러분을 환영합니다.\n",
        "\n",
        "딥러닝이 공부하는 방법을 공부한다니, 마치 메타 러닝(Meta learining; 딥러닝 학습 방식 중 하나로 학습 방법을 학습한다)같은 느낌이네요!\n",
        "\n",
        "그럼 Deep Learning의 learning을 deep하게 탐구할 준비 되셨나요?\n",
        "\n",
        "가볍게 몸풀기로 아래 질문에 대해서 생각하면서 시작해봅시다.\n",
        ""
      ],
      "metadata": {
        "id": "piiazehyKM9w"
      }
    },
    {
      "cell_type": "markdown",
      "source": [
        "과정 개요\n",
        "## 4-2. 손실 함수(Loss Function)\n",
        "딥러닝 학습에서 손실 함수의 역할은 무엇인지 파악하고 각각의 손실 함수의 동작과 특징을 살펴봅니다.\n",
        "\n",
        "## 4-3. 옵티마이저(Optimizer)와 지표\n",
        "딥러닝 학습에서 옵티마이저의 역할은 무엇이고 딥러닝 학습의 핵심으로 볼 수 있는 경사하강법에 대해서 배웁니다.\n",
        "\n",
        "## 4-4. 딥러닝 모델 학습\n",
        "실습을 통해 딥러닝이 학습되는 과정을 이해하고 경험해봅니다.\n",
        "\n",
        "## 학습 목표\n",
        "딥러닝 모델을 학습하기 위한 개념을 설명할 수 있습니다.\n",
        "손실 함수, 옵티마이저, 지표에 대해서 설명할 수 있습니다."
      ],
      "metadata": {
        "id": "wYFHofPvDyDN"
      }
    },
    {
      "cell_type": "markdown",
      "source": [
        "### 데이터 생성\n",
        "\n",
        "선형회귀(Linear Regression)를 위한 딥러닝 모델 을 만들어보도록 하겠습니다. 먼저 데이터셋을 make_regression 함수를 이용하여 입력 X와 정답\n",
        "\n",
        "y로 샘플 갯수(n_samples) 200개, 특징 갯수(n_featrues) 1개에 바이어스(bias)는 5.0, 노이즈(noise)는 5.0으로 지정하고, random_state는 123으로 하여 랜덤 시드를 지정해줍니다."
      ],
      "metadata": {
        "id": "lVQ8ySq-GSxF"
      }
    },
    {
      "cell_type": "code",
      "execution_count": 1,
      "metadata": {
        "colab": {
          "base_uri": "https://localhost:8080/",
          "height": 430
        },
        "id": "MTpJONiSJ1JZ",
        "outputId": "b8fe01aa-c006-4a18-fde0-973f1a8135c3"
      },
      "outputs": [
        {
          "output_type": "display_data",
          "data": {
            "text/plain": [
              "<Figure size 640x480 with 1 Axes>"
            ],
            "image/png": "[encoded data removed]"
          },
          "metadata": {}
        }
      ],
      "source": [
        "import numpy as np\n",
        "import matplotlib.pyplot as plt\n",
        "from sklearn.datasets import make_regression\n",
        "\n",
        "X, y = make_regression(n_samples=200, n_features=1,\n",
        "                       bias=5.0, noise=5.0, random_state=123)\n",
        "y = np.expand_dims(y, axis=1)\n",
        "\n",
        "plt.scatter(X, y)\n",
        "plt.show()"
      ]
    },
    {
      "cell_type": "markdown",
      "source": [
        "데이터는 학습용 데이터셋(x_train, y_train), 테스트용 데이터셋(x_test, y_test)으로 구분합니다."
      ],
      "metadata": {
        "id": "zmEJJDPsS3ZQ"
      }
    },
    {
      "cell_type": "code",
      "source": [
        "from sklearn.model_selection import train_test_split\n",
        "\n",
        "x_train, x_test, y_train, y_test = train_test_split(X, y,\n",
        "                                                    test_size=0.2,\n",
        "                                                    shuffle=True,\n",
        "                                                    random_state=123)\n",
        "\n",
        "print(x_train.shape, y_train.shape)\n",
        "print(x_test.shape, y_test.shape)"
      ],
      "metadata": {
        "colab": {
          "base_uri": "https://localhost:8080/"
        },
        "id": "2FmxigfDS6GK",
        "outputId": "4ef50138-5fb8-4765-c5b4-61510479ffb8"
      },
      "execution_count": 2,
      "outputs": [
        {
          "output_type": "stream",
          "name": "stdout",
          "text": [
            "(160, 1) (160, 1)\n",
            "(40, 1) (40, 1)\n"
          ]
        }
      ]
    },
    {
      "cell_type": "markdown",
      "source": [
        "## 모델 생성\n",
        "먼저 딥러닝을 사용하는데 필요한 라이브러리인 Tensorflow와 keras를 임포트합니다. 케라스(Keras)의 모델, 레이어, 옵티마이저, 유틸을 사용할 수 있도록 models, layers, optimizer, utils도 임포트합니다."
      ],
      "metadata": {
        "id": "wC3woJxXTEqQ"
      }
    },
    {
      "cell_type": "code",
      "source": [
        "import tensorflow as tf\n",
        "from tensorflow import keras\n",
        "from tensorflow.keras import models, layers, optimizers, utils"
      ],
      "metadata": {
        "id": "2Bdh24T4TIt4"
      },
      "execution_count": 3,
      "outputs": []
    },
    {
      "cell_type": "markdown",
      "source": [
        "모델은 간단하게 Sequential()을 이용해 선언하고, Dense 레이어 하나를 추가해줍니다. 레이어의 유닛수는 1개이고, activation은 선형 회귀이니 'linear'로 지정하며, input_shape은 (1,) 으로 1차원 모양으로 입력 모양을 가집니다. 최종 모델의 구조를 summary() 함수를 통해 확인해봅니다."
      ],
      "metadata": {
        "id": "OPJo4XWdTQYj"
      }
    },
    {
      "cell_type": "code",
      "source": [
        "model = keras.Sequential()\n",
        "model.add(layers.Dense(1, activation='linear', input_shape=(1,)))\n",
        "model.summary()"
      ],
      "metadata": {
        "colab": {
          "base_uri": "https://localhost:8080/"
        },
        "id": "5tEu2iENTS_7",
        "outputId": "af0e21c3-b6a5-4463-ae04-913a38d58a1c"
      },
      "execution_count": 4,
      "outputs": [
        {
          "output_type": "stream",
          "name": "stdout",
          "text": [
            "Model: \"sequential\"\n",
            "_________________________________________________________________\n",
            " Layer (type)                Output Shape              Param #   \n",
            "=================================================================\n",
            " dense (Dense)               (None, 1)                 2         \n",
            "                                                                 \n",
            "=================================================================\n",
            "Total params: 2\n",
            "Trainable params: 2\n",
            "Non-trainable params: 0\n",
            "_________________________________________________________________\n"
          ]
        }
      ]
    },
    {
      "cell_type": "markdown",
      "source": [
        "어떤 모델이 생성되었는지 그림으로 확인해 볼까요?"
      ],
      "metadata": {
        "id": "Bf-rVLvoTa5V"
      }
    },
    {
      "cell_type": "code",
      "source": [
        "utils.plot_model(model)"
      ],
      "metadata": {
        "colab": {
          "base_uri": "https://localhost:8080/",
          "height": 174
        },
        "id": "QI0iww6xTcsc",
        "outputId": "1a210f49-2ba1-46f9-d948-19ef294aa4ce"
      },
      "execution_count": 5,
      "outputs": [
        {
          "output_type": "execute_result",
          "data": {
            "image/png": "[encoded data removed]",
            "text/plain": [
              "<IPython.core.display.Image object>"
            ]
          },
          "metadata": {},
          "execution_count": 5
        }
      ]
    },
    {
      "cell_type": "markdown",
      "source": [
        "### 모델 학습\n",
        "딥러닝 모델의 학습 진행 방식을 결정하는 옵티마이저(optimizer)로 SGD(Stochastic Gradient Descent) 를 사용합니다. compile() 함수를 통해서 손실 함수(loss function), 옵티마이저(optimizer), 지표(metrics)를 지정합니다.\n",
        "\n",
        "모델의 학습에 필요한 손실 함수로 mse를 지정하여 Mean Square Error를 사용하고, 옵티마이저는 정의했던 SGD를 사용합니다. 지표로는 mae와 mse를 사용하는데 여기서 MAE는 Mean Absolute Error를 의미합니다.\n",
        "\n",
        "이제 모델 학습을 진행하기위해 fit() 함수를 호출합니다. 학습을 위해 x_train과 y_train를 지정하고, 학습 반복 횟수인 epochs를 40으로 지정합니다."
      ],
      "metadata": {
        "id": "pY0ogTfkTfrf"
      }
    },
    {
      "cell_type": "code",
      "source": [
        "optimizer = optimizers.SGD()\n",
        "model.compile(loss='mse', optimizer=optimizer, metrics=['mae', 'mse'])\n",
        "history = model.fit(x_train, y_train, epochs=40)"
      ],
      "metadata": {
        "colab": {
          "base_uri": "https://localhost:8080/"
        },
        "id": "eZshvxf4Tfbb",
        "outputId": "c55f9b0f-8c0d-4580-cfa6-6dcadf87d0ae"
      },
      "execution_count": 6,
      "outputs": [
        {
          "output_type": "stream",
          "name": "stdout",
          "text": [
            "Epoch 1/40\n",
            "5/5 [==============================] - 1s 6ms/step - loss: 667.5944 - mae: 20.6860 - mse: 667.5944\n",
            "Epoch 2/40\n",
            "5/5 [==============================] - 0s 4ms/step - loss: 535.9524 - mae: 18.6310 - mse: 535.9524\n",
            "Epoch 3/40\n",
            "5/5 [==============================] - 0s 4ms/step - loss: 431.0568 - mae: 16.6741 - mse: 431.0568\n",
            "Epoch 4/40\n",
            "5/5 [==============================] - 0s 4ms/step - loss: 347.3428 - mae: 14.9822 - mse: 347.3428\n",
            "Epoch 5/40\n",
            "5/5 [==============================] - 0s 4ms/step - loss: 281.1176 - mae: 13.5279 - mse: 281.1176\n",
            "Epoch 6/40\n",
            "5/5 [==============================] - 0s 3ms/step - loss: 228.2421 - mae: 12.1097 - mse: 228.2421\n",
            "Epoch 7/40\n",
            "5/5 [==============================] - 0s 3ms/step - loss: 185.8244 - mae: 10.9488 - mse: 185.8244\n",
            "Epoch 8/40\n",
            "5/5 [==============================] - 0s 4ms/step - loss: 152.3508 - mae: 9.8941 - mse: 152.3508\n",
            "Epoch 9/40\n",
            "5/5 [==============================] - 0s 4ms/step - loss: 125.5526 - mae: 8.9813 - mse: 125.5526\n",
            "Epoch 10/40\n",
            "5/5 [==============================] - 0s 6ms/step - loss: 104.2380 - mae: 8.1536 - mse: 104.2380\n",
            "Epoch 11/40\n",
            "5/5 [==============================] - 0s 3ms/step - loss: 87.1012 - mae: 7.4511 - mse: 87.1012\n",
            "Epoch 12/40\n",
            "5/5 [==============================] - 0s 5ms/step - loss: 73.5762 - mae: 6.8806 - mse: 73.5762\n",
            "Epoch 13/40\n",
            "5/5 [==============================] - 0s 3ms/step - loss: 62.8400 - mae: 6.3433 - mse: 62.8400\n",
            "Epoch 14/40\n",
            "5/5 [==============================] - 0s 3ms/step - loss: 54.2684 - mae: 5.8936 - mse: 54.2684\n",
            "Epoch 15/40\n",
            "5/5 [==============================] - 0s 4ms/step - loss: 47.4518 - mae: 5.4962 - mse: 47.4518\n",
            "Epoch 16/40\n",
            "5/5 [==============================] - 0s 3ms/step - loss: 42.0942 - mae: 5.1540 - mse: 42.0942\n",
            "Epoch 17/40\n",
            "5/5 [==============================] - 0s 3ms/step - loss: 37.6569 - mae: 4.8583 - mse: 37.6569\n",
            "Epoch 18/40\n",
            "5/5 [==============================] - 0s 3ms/step - loss: 34.1912 - mae: 4.6276 - mse: 34.1912\n",
            "Epoch 19/40\n",
            "5/5 [==============================] - 0s 3ms/step - loss: 31.4686 - mae: 4.4206 - mse: 31.4686\n",
            "Epoch 20/40\n",
            "5/5 [==============================] - 0s 4ms/step - loss: 29.2472 - mae: 4.2414 - mse: 29.2472\n",
            "Epoch 21/40\n",
            "5/5 [==============================] - 0s 4ms/step - loss: 27.4619 - mae: 4.1064 - mse: 27.4619\n",
            "Epoch 22/40\n",
            "5/5 [==============================] - 0s 4ms/step - loss: 26.0666 - mae: 3.9996 - mse: 26.0666\n",
            "Epoch 23/40\n",
            "5/5 [==============================] - 0s 3ms/step - loss: 25.0069 - mae: 3.9207 - mse: 25.0069\n",
            "Epoch 24/40\n",
            "5/5 [==============================] - 0s 3ms/step - loss: 24.0708 - mae: 3.8537 - mse: 24.0708\n",
            "Epoch 25/40\n",
            "5/5 [==============================] - 0s 3ms/step - loss: 23.3791 - mae: 3.8065 - mse: 23.3791\n",
            "Epoch 26/40\n",
            "5/5 [==============================] - 0s 3ms/step - loss: 22.8031 - mae: 3.7635 - mse: 22.8031\n",
            "Epoch 27/40\n",
            "5/5 [==============================] - 0s 4ms/step - loss: 22.3812 - mae: 3.7356 - mse: 22.3812\n",
            "Epoch 28/40\n",
            "5/5 [==============================] - 0s 3ms/step - loss: 22.0344 - mae: 3.7107 - mse: 22.0344\n",
            "Epoch 29/40\n",
            "5/5 [==============================] - 0s 3ms/step - loss: 21.7368 - mae: 3.6853 - mse: 21.7368\n",
            "Epoch 30/40\n",
            "5/5 [==============================] - 0s 3ms/step - loss: 21.5128 - mae: 3.6704 - mse: 21.5128\n",
            "Epoch 31/40\n",
            "5/5 [==============================] - 0s 4ms/step - loss: 21.3324 - mae: 3.6556 - mse: 21.3324\n",
            "Epoch 32/40\n",
            "5/5 [==============================] - 0s 4ms/step - loss: 21.1862 - mae: 3.6448 - mse: 21.1862\n",
            "Epoch 33/40\n",
            "5/5 [==============================] - 0s 4ms/step - loss: 21.0741 - mae: 3.6374 - mse: 21.0741\n",
            "Epoch 34/40\n",
            "5/5 [==============================] - 0s 3ms/step - loss: 20.9967 - mae: 3.6295 - mse: 20.9967\n",
            "Epoch 35/40\n",
            "5/5 [==============================] - 0s 4ms/step - loss: 20.9045 - mae: 3.6229 - mse: 20.9045\n",
            "Epoch 36/40\n",
            "5/5 [==============================] - 0s 3ms/step - loss: 20.8442 - mae: 3.6172 - mse: 20.8442\n",
            "Epoch 37/40\n",
            "5/5 [==============================] - 0s 4ms/step - loss: 20.7945 - mae: 3.6139 - mse: 20.7945\n",
            "Epoch 38/40\n",
            "5/5 [==============================] - 0s 4ms/step - loss: 20.7611 - mae: 3.6086 - mse: 20.7611\n",
            "Epoch 39/40\n",
            "5/5 [==============================] - 0s 4ms/step - loss: 20.7315 - mae: 3.6067 - mse: 20.7315\n",
            "Epoch 40/40\n",
            "5/5 [==============================] - 0s 4ms/step - loss: 20.7180 - mae: 3.6016 - mse: 20.7180\n"
          ]
        }
      ]
    },
    {
      "cell_type": "markdown",
      "source": [
        "모델이 학습하면서 각 epoch 마다 저장한 mae와 mse 지표를 차트를 통해서 확인합니다."
      ],
      "metadata": {
        "id": "zSRx9F83ToU2"
      }
    },
    {
      "cell_type": "code",
      "source": [
        "plt.plot(history.history['mae'])\n",
        "plt.plot(history.history['mse'])\n",
        "plt.xlabel('Epoch')\n",
        "plt.legend(['mae', 'mse'])\n",
        "plt.show();"
      ],
      "metadata": {
        "colab": {
          "base_uri": "https://localhost:8080/",
          "height": 454
        },
        "id": "0pVRTDFnTnKk",
        "outputId": "54557c75-95ce-48f9-af42-cfc5c685c78f"
      },
      "execution_count": 7,
      "outputs": [
        {
          "output_type": "display_data",
          "data": {
            "text/plain": [
              "<Figure size 640x480 with 1 Axes>"
            ],
            "image/png": "[encoded data removed]"
          },
          "metadata": {}
        }
      ]
    },
    {
      "cell_type": "markdown",
      "source": [
        "### 모델 평가\n",
        "이제 모델의 평가를 위해 evaluate() 함수를 이용하여 데이터셋인 x_test, y_test에 대해서 지표인 mae와 mse를 확인합니다."
      ],
      "metadata": {
        "id": "2x8WUExxTsAY"
      }
    },
    {
      "cell_type": "code",
      "source": [
        "model.evaluate(x_test, y_test)"
      ],
      "metadata": {
        "colab": {
          "base_uri": "https://localhost:8080/"
        },
        "id": "LRTzv5XXTvp4",
        "outputId": "e9cc92e5-a30a-460a-dcba-7fc3f93f6612"
      },
      "execution_count": 8,
      "outputs": [
        {
          "output_type": "stream",
          "name": "stdout",
          "text": [
            "2/2 [==============================] - 0s 10ms/step - loss: 21.9597 - mae: 3.9910 - mse: 21.9597\n"
          ]
        },
        {
          "output_type": "execute_result",
          "data": {
            "text/plain": [
              "[21.95970344543457, 3.990997314453125, 21.95970344543457]"
            ]
          },
          "metadata": {},
          "execution_count": 8
        }
      ]
    },
    {
      "cell_type": "markdown",
      "source": [
        "## 모델 예측\n",
        "학습된 모델을 통해 입력 데이터\n",
        "X에 대한 예측값을 predict()를 통해 결과로 받아옵니다. 실제 데이터의 결과값\n",
        "y와 모델의 예측 결과인 result를 살펴봅니다."
      ],
      "metadata": {
        "id": "vFOyWrddTzHC"
      }
    },
    {
      "cell_type": "code",
      "source": [
        "result = model.predict(X)\n",
        "\n",
        "plt.scatter(X, y)\n",
        "plt.plot(X, result, 'r')\n",
        "plt.show()"
      ],
      "metadata": {
        "colab": {
          "base_uri": "https://localhost:8080/",
          "height": 448
        },
        "id": "xju1t3h0TysO",
        "outputId": "179e7df3-08fd-4217-dfe7-9e720c82fd0c"
      },
      "execution_count": 9,
      "outputs": [
        {
          "output_type": "stream",
          "name": "stdout",
          "text": [
            "7/7 [==============================] - 0s 2ms/step\n"
          ]
        },
        {
          "output_type": "display_data",
          "data": {
            "text/plain": [
              "<Figure size 640x480 with 1 Axes>"
            ],
            "image/png": "[encoded data removed]"
          },
          "metadata": {}
        }
      ]
    },
    {
      "cell_type": "markdown",
      "source": [
        "딥러닝 모델에서 사용한 레이어를 layers로 접근하여 살펴볼 수 있습니다. 여기에서는 Dense 레이어 하나만 사용된 것을 알 수 있습니다."
      ],
      "metadata": {
        "id": "JN5wgNwGT-sw"
      }
    },
    {
      "cell_type": "code",
      "source": [
        "model.layers"
      ],
      "metadata": {
        "colab": {
          "base_uri": "https://localhost:8080/"
        },
        "id": "ziPYG2eqT_oi",
        "outputId": "5c9f875f-d89c-44ef-c96d-02ad77c1f65c"
      },
      "execution_count": 10,
      "outputs": [
        {
          "output_type": "execute_result",
          "data": {
            "text/plain": [
              "[<keras.layers.core.dense.Dense at 0x7f587917d0f0>]"
            ]
          },
          "metadata": {},
          "execution_count": 10
        }
      ]
    },
    {
      "cell_type": "markdown",
      "source": [
        "모델의 0번째 레이어인 layers[0]를 가져와서 layer.name으로 레이어의 이름을 확인할 수 있습니다. 또한, get_layer() 함수를 통해 같은 이름의 레이어를 얻을 수도 있습니다."
      ],
      "metadata": {
        "id": "8wtW1RC-UCAr"
      }
    },
    {
      "cell_type": "code",
      "source": [
        "layer = model.layers[0]\n",
        "print(layer.name)\n",
        "layer = model.get_layer('dense')\n",
        "print(layer.name)"
      ],
      "metadata": {
        "colab": {
          "base_uri": "https://localhost:8080/"
        },
        "id": "9vZCDmC2UHAW",
        "outputId": "f3622967-651e-498e-e152-8ff57dfb5d8f"
      },
      "execution_count": 11,
      "outputs": [
        {
          "output_type": "stream",
          "name": "stdout",
          "text": [
            "dense\n",
            "dense\n"
          ]
        }
      ]
    },
    {
      "cell_type": "markdown",
      "source": [
        "레이어에서 사용하는 가중치(weights)와 바이어스(biases)를 get_weights() 함수를 통해서 얻을 수 있습니다. 즉, 레이어에 있는 가중치와 바이어스를 통해 선형 회귀식을 얻을 수 있습니다."
      ],
      "metadata": {
        "id": "Qg_Y4tPqUI_S"
      }
    },
    {
      "cell_type": "code",
      "source": [
        "weights, biases = layer.get_weights()\n",
        "print(weights)\n",
        "print(biases)"
      ],
      "metadata": {
        "colab": {
          "base_uri": "https://localhost:8080/"
        },
        "id": "RDVlIJanUPi6",
        "outputId": "e9ea9f91-63ed-4701-c0c3-dbfcbfc47292"
      },
      "execution_count": 12,
      "outputs": [
        {
          "output_type": "stream",
          "name": "stdout",
          "text": [
            "[[22.883266]]\n",
            "[4.17474]\n"
          ]
        }
      ]
    },
    {
      "cell_type": "markdown",
      "source": [
        "딥러닝 모델에서 학습된 가중치(weights)와 바이어스(biases)를 통해 선형회귀식을 np.array(weights * X + biases)로 표현할 수 있습니다."
      ],
      "metadata": {
        "id": "3c4tK2l8USJi"
      }
    },
    {
      "cell_type": "code",
      "source": [
        "plt.scatter(X, y)\n",
        "plt.plot(X, np.array(weights * X + biases), 'r')\n",
        "plt.show()"
      ],
      "metadata": {
        "colab": {
          "base_uri": "https://localhost:8080/",
          "height": 430
        },
        "id": "G1yecSwhURrH",
        "outputId": "9144c407-4d82-40f9-ecde-ff05f5e30389"
      },
      "execution_count": 13,
      "outputs": [
        {
          "output_type": "display_data",
          "data": {
            "text/plain": [
              "<Figure size 640x480 with 1 Axes>"
            ],
            "image/png": "[encoded data removed]"
          },
          "metadata": {}
        }
      ]
    },
    {
      "cell_type": "markdown",
      "source": [
        "## 마무리하며\n",
        "\n",
        "## 이번 시간 정리\n",
        "- 딥러닝 모델을 학습하는 구성과 관련 요소들을 이해했습니다.\n",
        "- 모델이 잘 학습되고 있는지 비교를 위해 사용하는 손실함수에 대해서 이해했습니다.\n",
        "- 모델이 어떻게 업데이트되어야 하는지 결정하는 옵티마이저에 대해서 이해했습니다.\n",
        "\n",
        "## 종합 문제\n",
        "딥러닝 모델 학습에 대해 공부하시느라 모두 수고하셨습니다.\n",
        "그럼 간단한 퀴즈로 마무리해보는 시간을 가져보겠습니다."
      ],
      "metadata": {
        "id": "0aZoHPsjUeWg"
      }
    },
    {
      "cell_type": "markdown",
      "source": [
        "Q. 사람과 달리 딥러닝의 학습은 어떻게 이루어지는지 딥러닝을 처음 접하는 사람에게 설명하실 수 있을까요?\n",
        "\n",
        "\n",
        ":실제 정답과 딥러닝 모델이 예측한 정답을 비교하여 실제 정답에 가깝게 예측할 수 있도록 스스로 학습합니다."
      ],
      "metadata": {
        "id": "tRQftwY01iws"
      }
    }
  ]
}